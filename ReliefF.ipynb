import os 
import pandas as pd
import numpy as np
import math
os.chdir(r'C:\Users\lzt\Desktop\python')
data=pd.read_excel('Breast Cancer Wisconsin.xlsx',names=['样品编号','块厚度','细胞大小均匀性','细胞形态均匀性','边缘粘附力','单上皮细胞尺寸','裸核','Bland染色质','正常核仁','核分裂','分类'])
data=data.replace('?',np.nan).dropna()#删除
def ReliefF(D,m=80,k=8,deta=0.001):
    T=[]
    W=np.zeros((m,D.shape[1]))#初始化权值矩阵，80*11
    for i in range(m):
        np.random.seed(i)#随机数种子
        r=np.random.randint(0,D.shape[0]) 
        R=data.iloc[r,:] #随机选择一个样本R
        label=R['分类']
        D1=D[D['分类']==label]
        D2=D[D['分类']!=label]
        H=findK_NearSample(D1,R,k)#同类K个最近邻样本HK，，返回的是二维列表
        M=findK_NearSample(D2,R,k)#不用类K个最近邻样本MK，返回的是二维列表
        for j in range(1,D.shape[1]-1):#从1到9，对应9个属性
            W[i,j]=W[i,j]-np.sum(diff(j,R,H,D1))/(m*k)+np.sum(diff(j,R,M,D2))/(m*k)#权重更新
    W_mean=np.mean(W,axis=0)#求平均
    W=pd.DataFrame(W,columns=[str(i) for i in range(11)])
    W=W.iloc[:,1:10]
    for i in range(1,D.shape[1]-1):
        if W_mean[i]>deta:
            T.append(D.columns[i])
    return W,W_mean,T
def diff(j,R1,R2,D):#R1和R2在特征D.columns[j]上的距离
    L=[]
    for i in range(len(R2)): 
        k=R2[i][0] #拿到k个最近邻样本的索引
        Distance=math.fabs(R1[j]-D.iloc[k,j])/9
        L.append(Distance)
    return L
def findK_NearSample(D,R,k):#K个最近邻样本
    L=[]
    #计算每两个样本之间的特征距离：(特征1-特征2)/(max-min)，本文数据范围都是1-10，所以max-min=9为固定
    for i in range(D.shape[0]):
        sum=0
        for j in range(1,D.shape[1]-1):#从第一列开始，1到9
            Distance=math.fabs(D.iloc[i,j]-R.iloc[j])/9
            sum+=Distance
        if(sum!=0):    
            L.append([i,round(sum,2)])
    L.sort(key=lambda x:x[1])#排序
    L=L[:k]
    return L
W,W_mean,T=ReliefF(data)
#W_mean=array([0.        , 0.00264106, 0.00182509, 0.00184028, 0.00168837,0.00049913, 0.00292318, 0.00128255, 0.00196615, 0.00032769,0.        ])
#属性9<属性5<属性7<属性4<属性2<属性3<属性8<属性1<属性6  按照权重大小，选定deta=0.001,去掉属性9和5
#T=['块厚度', '细胞大小均匀性', '细胞形态均匀性', '边缘粘附力', '裸核', 'Bland染色质', '正常核仁']  
#从上面的特征权重可以看出，属性6裸核大小是最主要的影响因素，说明乳腺癌患者的症状最先表现了裸核大小上，将直接导致裸核大小的变化，其次是属性1和属性8等
